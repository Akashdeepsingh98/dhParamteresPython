{
 "cells": [
  {
   "cell_type": "code",
   "execution_count": 1,
   "metadata": {},
   "outputs": [],
   "source": [
    "import matplotlib.pyplot as plt\n",
    "import numpy as np\n",
    "from sympy.physics.mechanics import dynamicsymbols\n",
    "import sympy as sp"
   ]
  },
  {
   "cell_type": "code",
   "execution_count": 2,
   "metadata": {},
   "outputs": [
    {
     "name": "stdout",
     "output_type": "stream",
     "text": [
      "Give number of joints n: 4\n"
     ]
    }
   ],
   "source": [
    "num_of_joints = int(input(\"Give number of joints n: \"))"
   ]
  },
  {
   "cell_type": "code",
   "execution_count": 3,
   "metadata": {},
   "outputs": [
    {
     "data": {
      "text/latex": [
       "$\\displaystyle \\left[\\begin{matrix}\\cos{\\left(\\theta{\\left(t \\right)} \\right)} & - \\sin{\\left(\\theta{\\left(t \\right)} \\right)} \\cos{\\left(\\alpha{\\left(t \\right)} \\right)} & \\sin{\\left(\\alpha{\\left(t \\right)} \\right)} \\sin{\\left(\\theta{\\left(t \\right)} \\right)} & a{\\left(t \\right)} \\cos{\\left(\\theta{\\left(t \\right)} \\right)}\\\\\\sin{\\left(\\theta{\\left(t \\right)} \\right)} & \\cos{\\left(\\alpha{\\left(t \\right)} \\right)} \\cos{\\left(\\theta{\\left(t \\right)} \\right)} & - \\sin{\\left(\\alpha{\\left(t \\right)} \\right)} \\cos{\\left(\\theta{\\left(t \\right)} \\right)} & a{\\left(t \\right)} \\sin{\\left(\\theta{\\left(t \\right)} \\right)}\\\\0 & \\sin{\\left(\\alpha{\\left(t \\right)} \\right)} & \\cos{\\left(\\alpha{\\left(t \\right)} \\right)} & d{\\left(t \\right)}\\\\0 & 0 & 0 & 1\\end{matrix}\\right]$"
      ],
      "text/plain": [
       "Matrix([\n",
       "[cos(theta(t)), -sin(theta(t))*cos(alpha(t)),  sin(alpha(t))*sin(theta(t)), a(t)*cos(theta(t))],\n",
       "[sin(theta(t)),  cos(alpha(t))*cos(theta(t)), -sin(alpha(t))*cos(theta(t)), a(t)*sin(theta(t))],\n",
       "[            0,                sin(alpha(t)),                cos(alpha(t)),               d(t)],\n",
       "[            0,                            0,                            0,                  1]])"
      ]
     },
     "execution_count": 3,
     "metadata": {},
     "output_type": "execute_result"
    }
   ],
   "source": [
    "theta, alpha, d, a = dynamicsymbols('theta alpha d a')\n",
    "Template = sp.Matrix([[sp.cos(theta), -sp.sin(theta)*sp.cos(alpha), sp.sin(theta)*sp.sin(alpha), a*sp.cos(theta)],\n",
    "                      [sp.sin(theta), sp.cos(theta)*sp.cos(alpha), -sp.cos(theta)*sp.sin(alpha), a*sp.sin(theta)],\n",
    "                      [0, sp.sin(alpha), sp.cos(alpha), d],\n",
    "                      [0, 0, 0, 1]])\n",
    "Template"
   ]
  },
  {
   "cell_type": "code",
   "execution_count": 4,
   "metadata": {},
   "outputs": [
    {
     "name": "stdout",
     "output_type": "stream",
     "text": [
      "Give theta1 alpha1 d1 a1: t1 3.14 d1 a1\n",
      "Give theta2 alpha2 d2 a2: t2 0 0 a2\n",
      "Give theta3 alpha3 d3 a3: 0 0 d3 0\n",
      "Give theta4 alpha4 d4 a4: t4 0 d4 0\n"
     ]
    },
    {
     "data": {
      "text/latex": [
       "$\\displaystyle \\left[\\begin{matrix}\\cos{\\left(\\theta_{1}{\\left(t \\right)} + \\theta_{2}{\\left(t \\right)} + \\theta_{4}{\\left(t \\right)} \\right)} & - \\sin{\\left(\\theta_{1}{\\left(t \\right)} + \\theta_{2}{\\left(t \\right)} + \\theta_{4}{\\left(t \\right)} \\right)} & 0 & \\operatorname{a_{1}}{\\left(t \\right)} \\cos{\\left(\\theta_{1}{\\left(t \\right)} \\right)} + \\operatorname{a_{2}}{\\left(t \\right)} \\cos{\\left(\\theta_{1}{\\left(t \\right)} + \\theta_{2}{\\left(t \\right)} \\right)}\\\\\\sin{\\left(\\theta_{1}{\\left(t \\right)} + \\theta_{2}{\\left(t \\right)} + \\theta_{4}{\\left(t \\right)} \\right)} & \\cos{\\left(\\theta_{1}{\\left(t \\right)} + \\theta_{2}{\\left(t \\right)} + \\theta_{4}{\\left(t \\right)} \\right)} & 0 & \\operatorname{a_{1}}{\\left(t \\right)} \\sin{\\left(\\theta_{1}{\\left(t \\right)} \\right)} + \\operatorname{a_{2}}{\\left(t \\right)} \\sin{\\left(\\theta_{1}{\\left(t \\right)} + \\theta_{2}{\\left(t \\right)} \\right)}\\\\0 & 0 & 1 & \\operatorname{d_{1}}{\\left(t \\right)} + \\operatorname{d_{3}}{\\left(t \\right)} + \\operatorname{d_{4}}{\\left(t \\right)}\\\\0 & 0 & 0 & 1\\end{matrix}\\right]$"
      ],
      "text/plain": [
       "Matrix([\n",
       "[cos(theta1(t) + theta2(t) + theta4(t)), -sin(theta1(t) + theta2(t) + theta4(t)), 0, a1(t)*cos(theta1(t)) + a2(t)*cos(theta1(t) + theta2(t))],\n",
       "[sin(theta1(t) + theta2(t) + theta4(t)),  cos(theta1(t) + theta2(t) + theta4(t)), 0, a1(t)*sin(theta1(t)) + a2(t)*sin(theta1(t) + theta2(t))],\n",
       "[                                     0,                                       0, 1,                                   d1(t) + d3(t) + d4(t)],\n",
       "[                                     0,                                       0, 0,                                                       1]])"
      ]
     },
     "execution_count": 4,
     "metadata": {},
     "output_type": "execute_result"
    }
   ],
   "source": [
    "from sympy import simplify\n",
    "T = np.identity(4, dtype=int)\n",
    "thetas, alphas, ds, az = [0], [0], [0], [0]\n",
    "for i in range(num_of_joints):\n",
    "    jointparams = list(input(\"Give theta{} alpha{} d{} a{}: \".format(i+1,i+1,i+1,i+1)).rstrip().split())\n",
    "    thetai, alphai, di, ai =0,0,0,0\n",
    "    if jointparams[0].isnumeric():\n",
    "        thetai = int(jointparams[0])\n",
    "    else:\n",
    "        thetai = dynamicsymbols('theta{}'.format(i+1))\n",
    "    thetas.append(thetai)\n",
    "    if jointparams[1].isnumeric():\n",
    "        alphai = int(jointparams[1])\n",
    "    else:\n",
    "        aplhai = dynamicsymbols('alpha{}'.format(i+1))\n",
    "    alphas.append(alphai)\n",
    "    if jointparams[2].isnumeric():\n",
    "        di = int(jointparams[2])\n",
    "    else:\n",
    "        di = dynamicsymbols('d{}'.format(i+1))\n",
    "    ds.append(di)\n",
    "    if jointparams[3].isnumeric():\n",
    "        ai = int(jointparams[3])\n",
    "    else:\n",
    "        ai = dynamicsymbols('a{}'.format(i+1))\n",
    "    az.append(ai)\n",
    "    Ti = Template.subs({theta:thetai, alpha:alphai, a:ai, d:di})\n",
    "    T = T*Ti\n",
    "    T = sp.Matrix([[simplify(T[0,0]), simplify(T[0,1]), simplify(T[0,2]), simplify(T[0,3])],\n",
    "                   [simplify(T[1,0]), simplify(T[1,1]), simplify(T[1,2]), simplify(T[1,3])],\n",
    "                   [simplify(T[2,0]), simplify(T[2,1]), simplify(T[2,2]), simplify(T[2,3])],\n",
    "                   [simplify(T[3,0]), simplify(T[3,1]), simplify(T[3,2]), simplify(T[3,3])]])\n",
    "    \n",
    "T"
   ]
  },
  {
   "cell_type": "code",
   "execution_count": 8,
   "metadata": {},
   "outputs": [
    {
     "name": "stdout",
     "output_type": "stream",
     "text": [
      "Give parameter name and value : d1 877\n",
      "Give parameter name and value : d4 200\n",
      "Give parameter name and value : a1 425\n",
      "Give parameter name and value : a2 375\n",
      "Give parameter name and value : theta1 3.1415/4\n",
      "Give parameter name and value : theta2 -3.1415/3\n",
      "Give parameter name and value : theta4 3.1415/2\n",
      "Give parameter name and value : e\n"
     ]
    },
    {
     "data": {
      "text/latex": [
       "$\\displaystyle \\left[\\begin{matrix}0.258856335116006 & -0.965915833688583 & 0 & 662.750277235365\\\\0.965915833688583 & 0.258856335116006 & 0 & 203.459075705538\\\\0 & 0 & 1 & \\operatorname{d_{3}}{\\left(t \\right)} + 1077.0\\\\0 & 0 & 0 & 1\\end{matrix}\\right]$"
      ],
      "text/plain": [
       "Matrix([\n",
       "[0.258856335116006, -0.965915833688583, 0, 662.750277235365],\n",
       "[0.965915833688583,  0.258856335116006, 0, 203.459075705538],\n",
       "[                0,                  0, 1,   d3(t) + 1077.0],\n",
       "[                0,                  0, 0,                1]])"
      ]
     },
     "execution_count": 8,
     "metadata": {},
     "output_type": "execute_result"
    }
   ],
   "source": [
    "paramvalues = {}\n",
    "while True:\n",
    "    paraminput = list(input(\"Give parameter name and value : \").rstrip().split())\n",
    "    if paraminput[0]=='e':\n",
    "        break\n",
    "    paramvalues[dynamicsymbols(paraminput[0])] = float(eval(paraminput[1]))\n",
    "outputmatrix = T.subs(paramvalues)\n",
    "outputmatrix"
   ]
  }
 ],
 "metadata": {
  "kernelspec": {
   "display_name": "Python 3",
   "language": "python",
   "name": "python3"
  },
  "language_info": {
   "codemirror_mode": {
    "name": "ipython",
    "version": 3
   },
   "file_extension": ".py",
   "mimetype": "text/x-python",
   "name": "python",
   "nbconvert_exporter": "python",
   "pygments_lexer": "ipython3",
   "version": "3.7.3"
  }
 },
 "nbformat": 4,
 "nbformat_minor": 2
}
